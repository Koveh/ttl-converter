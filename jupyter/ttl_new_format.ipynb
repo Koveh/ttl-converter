{
 "cells": [
  {
   "cell_type": "code",
   "execution_count": 1,
   "metadata": {},
   "outputs": [],
   "source": [
    "# import libraries\n",
    "from typing import List, Dict, Any, Tuple\n",
    "import re"
   ]
  },
  {
   "cell_type": "code",
   "execution_count": 2,
   "metadata": {},
   "outputs": [],
   "source": [
    "# prefixes to understant that they are used to set up a prefix\n",
    "statement_prefix = (\"v:\", \"s:\")\n",
    "triple_statement_prefix = (\"p:\", \"psv:\")\n"
   ]
  },
  {
   "cell_type": "code",
   "execution_count": 3,
   "metadata": {},
   "outputs": [],
   "source": [
    "test = \"\"\"wd:Q43 wdt:P31 wd:Q5 .\n",
    "\n",
    "wd:Q42 wdt:P31 wd:Q5 ;\n",
    "  wdt:P569 \"1952-03-11T00:00:00Z\"^^xsd:dateTime ;\n",
    "  p:P569 s:q42-D8404CDA-25E4-4334-AF13-A3290BCD9C0F ;\n",
    "  a wikibase:Statement, wikibase:BestRank .\n",
    "\n",
    "s:q42-D8404CDA-25E4-4334-AF13-A3290BCD9C0F a wikibase:Statement, wikibase:BestRank,  wikibase-2:BestRank-2k  ;\n",
    "  wikibase:rank wikibase:NormalRank ;\n",
    "  ps:P569 \"1952-03-11T00:00:00Z\"^^xsd:dateTime ;\n",
    "  psv:P569 v:426df9023763f08b066f4478480f44cd, v:426df9023763f08b066f4478480f44cde;\n",
    "  prov:wasDerivedFrom ref:355b56329b78db22be549dec34f2570ca61ca056,\n",
    "                      ref:a02f3a77ddd343e6b88be25696b055f5131c3d64 .\n",
    "v:426df9023763f08b066f4478480f44cd a wikibase:TimeValue ;\n",
    "  wikibase:timeValue \"1952-03-11T00:00:00Z\"^^xsd:dateTime ;\n",
    "  wikibase:timePrecision \"11\"^^xsd:integer, \"12\"^^xsd:integer ;\n",
    "  wikibase:timeTimezone \"0\"^^xsd:integer, \"2\"^^xsd:integer ;\n",
    "  wikibase:timeCalendarModel <http://www.wikidata.org/entity/Q1985727> .\n",
    "  \n",
    "v:426df9023763f08b066f4478480f44cde a wikibase:TimeValue ;\n",
    "  wikibase:timeValue \"1952-03-11T00:00:00Z\"^^xsd:dateTime ;\n",
    "  wikibase:timePrecision \"11\"^^xsd:integer, \"12\"^^xsd:integer ;\n",
    "  wikibase:timeTimezone \"0\"^^xsd:integer, \"2\"^^xsd:integer ;\n",
    "  wikibase:timeCalendarModel <http://www.wikidata.org/entity/Q1985727> .\n",
    "  \"\"\""
   ]
  },
  {
   "cell_type": "code",
   "execution_count": 4,
   "metadata": {},
   "outputs": [
    {
     "name": "stdout",
     "output_type": "stream",
     "text": [
      "Size of the string in MB:  0.0011949539184570312\n"
     ]
    }
   ],
   "source": [
    "#find size in mb of the string\n",
    "print(\"Size of the string in MB: \", len(test.encode('utf-8')) / 1024 / 1024)"
   ]
  },
  {
   "cell_type": "code",
   "execution_count": 5,
   "metadata": {},
   "outputs": [],
   "source": [
    "def preprocess_ttl(ttl_text: str) -> str:\n",
    "    \"\"\"\n",
    "    Preprocess the Turtle format text by removing line breaks and excess spaces.\n",
    "    \n",
    "    Args:\n",
    "    ttl_text (str): The input Turtle format text.\n",
    "    \n",
    "    Returns:\n",
    "    str: Preprocessed text as a single line.\n",
    "    \"\"\"\n",
    "    # Remove line breaks and excess spaces, but preserve important whitespace\n",
    "    preprocessed = re.sub(r'\\s+', ' ', ttl_text)\n",
    "    # Ensure space after semicolons and commas for readability\n",
    "    preprocessed = re.sub(r'([;,])(?!\\s)', r'\\1 ', preprocessed)\n",
    "    # Remove space before period at the end of statements\n",
    "    preprocessed = re.sub(r'\\s+\\.', ' .', preprocessed)\n",
    "\n",
    "    # remove the last dot \" .\" from the string\n",
    "    if preprocessed[-1] == \".\":\n",
    "        preprocessed = preprocessed[:-1]\n",
    "    \n",
    "    return preprocessed.strip()"
   ]
  },
  {
   "cell_type": "code",
   "execution_count": null,
   "metadata": {},
   "outputs": [],
   "source": [
    "preprocessed_ttl = preprocess_ttl(test)"
   ]
  },
  {
   "cell_type": "code",
   "execution_count": 6,
   "metadata": {},
   "outputs": [],
   "source": [
    "def split_by_sections(preprocessed_text: str) -> Dict: \n",
    "    \"\"\"\n",
    "    Split the preprocessed text into sections based on periods.\n",
    "    \n",
    "    Args:\n",
    "    preprocessed_text (str): The preprocessed Turtle format text.\n",
    "    \n",
    "    Returns:\n",
    "    list: A list of strings, each representing a section.\n",
    "    \"\"\"\n",
    "    # Split by period, but not if it's part of a data type or URL\n",
    "    sections = re.split(r'\\.\\s+(?=[^\\s])', preprocessed_text)\n",
    "    result = dict()\n",
    "    \n",
    "    # remove the last dot \" .\" from the string\n",
    "    if sections[-1][-1] == \".\":\n",
    "        sections[-1] = sections[-1][:-1]\n",
    "    \n",
    "    for section in sections:\n",
    "        stripped_section = section.strip() # remove leading and trailing whitespaces\n",
    "        #split section by ; and remove leading and trailing whitespaces\n",
    "        statements = [statement.strip() for statement in stripped_section.split(\";\")]\n",
    "        \n",
    "        # remove the first word in the list (till the first space)\n",
    "        subject = statements[0].split(\" \")[0]\n",
    "        # pop subject from the string, add \" \" to remove the leading space\n",
    "        statements[0] = statements[0].replace(subject + \" \", \"\")\n",
    "        #split each statement by space        \n",
    "        statement_parts = [statement.split(\" \") for statement in statements]\n",
    "        \n",
    "        result[subject] = statement_parts\n",
    "    return result"
   ]
  },
  {
   "cell_type": "code",
   "execution_count": 7,
   "metadata": {},
   "outputs": [
    {
     "ename": "NameError",
     "evalue": "name 'preprocessed_ttl' is not defined",
     "output_type": "error",
     "traceback": [
      "\u001b[0;31m---------------------------------------------------------------------------\u001b[0m",
      "\u001b[0;31mNameError\u001b[0m                                 Traceback (most recent call last)",
      "Cell \u001b[0;32mIn[7], line 1\u001b[0m\n\u001b[0;32m----> 1\u001b[0m splitted_by_sections \u001b[38;5;241m=\u001b[39m split_by_sections(\u001b[43mpreprocessed_ttl\u001b[49m)\n\u001b[1;32m      2\u001b[0m splitted_by_sections\n",
      "\u001b[0;31mNameError\u001b[0m: name 'preprocessed_ttl' is not defined"
     ]
    }
   ],
   "source": [
    "splitted_by_sections = split_by_sections(preprocessed_ttl)\n",
    "splitted_by_sections"
   ]
  },
  {
   "cell_type": "code",
   "execution_count": null,
   "metadata": {},
   "outputs": [],
   "source": [
    "import time\n",
    "\n",
    "def timer_decorator(func):\n",
    "    def wrapper(*args, **kwargs):\n",
    "        start_time = time.time()\n",
    "        result = func(*args, **kwargs)\n",
    "        end_time = time.time()\n",
    "        print(f\"Execution time: {end_time - start_time} seconds\")\n",
    "        return result\n",
    "    return wrapper"
   ]
  },
  {
   "cell_type": "code",
   "execution_count": null,
   "metadata": {},
   "outputs": [],
   "source": [
    "def recursive_conversion(sections, predicate_chain, index_chain, object, subject):\n",
    "    if object not in sections:\n",
    "        return\n",
    "    \n",
    "    for triple in sections[object]:\n",
    "        new_predicate_chain = predicate_chain.copy()\n",
    "        new_index_chain = index_chain.copy()\n",
    "        new_predicate_chain.append(triple[0])\n",
    "        \n",
    "        if triple[0].startswith(triple_statement_prefix):\n",
    "            for i, obj in enumerate(triple[1:], start=1):\n",
    "                if obj.endswith(','):\n",
    "                    obj = obj[:-1]  # Remove trailing comma\n",
    "                new_index = new_index_chain + [str(i)]\n",
    "                recursive_conversion(sections, new_predicate_chain, new_index, obj, subject)\n",
    "        else:\n",
    "            predicate = \"|\".join(new_predicate_chain)\n",
    "            for i, obj in enumerate(triple[1:], start=1):\n",
    "                if obj.endswith(','):\n",
    "                    obj = obj[:-1]  # Remove trailing comma\n",
    "                new_index = new_index_chain + [str(i)]\n",
    "                index = \",\".join(new_index)\n",
    "                answer.append(f\"{subject} <{predicate}>[{index}] {obj}\")\n"
   ]
  },
  {
   "cell_type": "code",
   "execution_count": null,
   "metadata": {},
   "outputs": [],
   "source": [
    "@timer_decorator\n",
    "def convert_to_new_format(sections: Dict[str, List[List[str]]]) -> str:\n",
    "    global answer\n",
    "    answer = []\n",
    "    \n",
    "    for subject, triples in sections.items():\n",
    "        if subject.startswith(statement_prefix):\n",
    "            continue\n",
    "        \n",
    "        for triple in triples:\n",
    "            predicate_chain = [triple[0]]\n",
    "            index_chain = []\n",
    "            \n",
    "            if triple[0].startswith(triple_statement_prefix):\n",
    "                for i, obj in enumerate(triple[1:], start=1):\n",
    "                    if obj.endswith(','):\n",
    "                        obj = obj[:-1]  # Remove trailing comma\n",
    "                    recursive_conversion(sections, predicate_chain, [str(i)], obj, subject)\n",
    "            else:\n",
    "                predicate = triple[0]\n",
    "                for i, obj in enumerate(triple[1:], start=1):\n",
    "                    if obj.endswith(','):\n",
    "                        obj = obj[:-1]  # Remove trailing comma\n",
    "                    answer.append(f\"{subject} <{predicate}>[{i}] {obj}\")\n",
    "    \n",
    "    return \"\\n\".join(answer)"
   ]
  },
  {
   "cell_type": "code",
   "execution_count": null,
   "metadata": {},
   "outputs": [],
   "source": [
    "print(convert_to_new_format(sections=splitted_by_sections))\n",
    "new_format = convert_to_new_format(sections=splitted_by_sections)\n"
   ]
  },
  {
   "cell_type": "code",
   "execution_count": null,
   "metadata": {},
   "outputs": [],
   "source": [
    "def full_function(ttl_input):\n",
    "    \"\"\"\n",
    "    Convert Turtle format to the new format.\n",
    "    \n",
    "    Args:\n",
    "    ttl_input (str): Input text in Turtle format.\n",
    "    \n",
    "    Returns:\n",
    "    str: Converted text in the new format.\n",
    "    \"\"\"\n",
    "    preprocessed = preprocess_ttl(ttl_input)\n",
    "    sections = split_by_sections(preprocessed)\n",
    "    processed = convert_to_new_format(sections)\n",
    "    return processed"
   ]
  },
  {
   "cell_type": "code",
   "execution_count": null,
   "metadata": {},
   "outputs": [],
   "source": [
    "print(full_function(test))"
   ]
  }
 ],
 "metadata": {
  "kernelspec": {
   "display_name": "env",
   "language": "python",
   "name": "python3"
  },
  "language_info": {
   "codemirror_mode": {
    "name": "ipython",
    "version": 3
   },
   "file_extension": ".py",
   "mimetype": "text/x-python",
   "name": "python",
   "nbconvert_exporter": "python",
   "pygments_lexer": "ipython3",
   "version": "3.12.3"
  }
 },
 "nbformat": 4,
 "nbformat_minor": 2
}
